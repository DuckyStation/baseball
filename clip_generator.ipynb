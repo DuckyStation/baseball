{
 "cells": [
  {
   "cell_type": "code",
   "execution_count": 2,
   "id": "734e465d-de89-4e56-ac7f-6b6234b862ac",
   "metadata": {},
   "outputs": [
    {
     "data": {
      "text/plain": [
       "'raw_data/clips/clip_[두산 vs 삼성] 9_4 다시보기 _ TVING - Chrome 2024-09-05 16-32-12.mp4_20.0_26.0.mp4'"
      ]
     },
     "execution_count": 2,
     "metadata": {},
     "output_type": "execute_result"
    }
   ],
   "source": [
    "raw_data_dir=\"raw_data/\"\n",
    "video_file_name=\"[두산 vs 삼성] 9_4 다시보기 _ TVING - Chrome 2024-09-05 16-32-12.mp4\"\n",
    "video_in_name=raw_data_dir+video_file_name\n",
    "\n",
    "start=20*60\n",
    "end=26*60\n",
    "\n",
    "output_dir=\"raw_data/clips/\"\n",
    "output_file_name=\"clip_\"+video_file_name+\"_\"+str(start/60)+\"_\"+str(end/60)+\".mp4\"\n",
    "video_out_name=output_dir+output_file_name\n",
    "\n",
    "\n",
    "video_out_name\n"
   ]
  },
  {
   "cell_type": "code",
   "execution_count": 16,
   "id": "5b8238b4-5c4b-40fd-a4a4-843641a082fb",
   "metadata": {},
   "outputs": [
    {
     "name": "stdout",
     "output_type": "stream",
     "text": [
      "Moviepy - Building video raw_data/clips/clip_[두산 vs 삼성] 9_4 다시보기 _ TVING - Chrome 2024-09-05 16-32-12.mp4_20.0_26.0.mp4.\n",
      "MoviePy - Writing audio in clip_[두산 vs 삼성] 9_4 다시보기 _ TVING - Chrome 2024-09-05 16-32-12.mp4_20.0_26.0TEMP_MPY_wvf_snd.mp4\n"
     ]
    },
    {
     "name": "stderr",
     "output_type": "stream",
     "text": [
      "                                                                                \r"
     ]
    },
    {
     "name": "stdout",
     "output_type": "stream",
     "text": [
      "MoviePy - Done.\n",
      "Moviepy - Writing video raw_data/clips/clip_[두산 vs 삼성] 9_4 다시보기 _ TVING - Chrome 2024-09-05 16-32-12.mp4_20.0_26.0.mp4\n",
      "\n"
     ]
    },
    {
     "name": "stderr",
     "output_type": "stream",
     "text": [
      "                                                                                \r"
     ]
    },
    {
     "name": "stdout",
     "output_type": "stream",
     "text": [
      "Moviepy - Done !\n",
      "Moviepy - video ready raw_data/clips/clip_[두산 vs 삼성] 9_4 다시보기 _ TVING - Chrome 2024-09-05 16-32-12.mp4_20.0_26.0.mp4\n"
     ]
    }
   ],
   "source": [
    "from moviepy.video.io.VideoFileClip import VideoFileClip\n",
    "\n",
    "# Load the video file\n",
    "video = VideoFileClip(video_in_name)\n",
    "\n",
    "# Specify the start and end times (in seconds)\n",
    "start_time = start  \n",
    "end_time = end    \n",
    "\n",
    "# Cut the video using subclip\n",
    "cut_video = video.subclip(start_time, end_time)\n",
    "\n",
    "# Save the result to a new file\n",
    "cut_video.write_videofile(video_out_name, codec=\"libx264\", audio_codec=\"aac\")\n",
    "\n",
    "# Close the video clip to free resources\n",
    "video.close()"
   ]
  }
 ],
 "metadata": {
  "kernelspec": {
   "display_name": "venv_baseball1.0",
   "language": "python",
   "name": "venv_baseball"
  },
  "language_info": {
   "codemirror_mode": {
    "name": "ipython",
    "version": 3
   },
   "file_extension": ".py",
   "mimetype": "text/x-python",
   "name": "python",
   "nbconvert_exporter": "python",
   "pygments_lexer": "ipython3",
   "version": "3.10.12"
  }
 },
 "nbformat": 4,
 "nbformat_minor": 5
}
