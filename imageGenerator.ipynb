{
 "cells": [
  {
   "cell_type": "code",
   "execution_count": 2,
   "id": "db2bb179-1d36-417b-b465-b3aac3b49dc2",
   "metadata": {},
   "outputs": [],
   "source": [
    "import cv2\n",
    "import os\n",
    "\n",
    "# Function to extract frames from a video at specific times\n",
    "def extract_frames_at_times(video_path, output_folder, times_in_seconds,game_name):\n",
    "    # Check if the output folder exists, if not, create it\n",
    "    if not os.path.exists(output_folder):\n",
    "        os.makedirs(output_folder)\n",
    "\n",
    "    # Capture the video from the given file path\n",
    "    video_capture = cv2.VideoCapture(video_path)\n",
    "\n",
    "    # Get the frames per second (fps) of the video\n",
    "    fps = video_capture.get(cv2.CAP_PROP_FPS)\n",
    "\n",
    "    # Convert the time (in seconds) to corresponding frame numbers\n",
    "    frame_numbers = [int(time * fps+fps/2) for time in times_in_seconds]\n",
    "\n",
    "    saved_image_id = 0\n",
    "\n",
    "    for frame_number in frame_numbers:\n",
    "        # Set the video capture to the specific frame\n",
    "        video_capture.set(cv2.CAP_PROP_POS_FRAMES, frame_number)\n",
    "\n",
    "        ret, frame = video_capture.read()\n",
    "\n",
    "        if ret:\n",
    "            # Save the frame as a .jpg file\n",
    "            image_filename = os.path.join(output_folder, f\"frame_{game_name}_{saved_image_id:04d}.jpg\")\n",
    "            cv2.imwrite(image_filename, frame)\n",
    "            print(f\"Saved {image_filename} at time {times_in_seconds[saved_image_id]} seconds.\")\n",
    "            saved_image_id += 1\n",
    "        else:\n",
    "            print(f\"Failed to retrieve frame at {times_in_seconds[saved_image_id]} seconds.\")\n",
    "\n",
    "    video_capture.release()\n",
    "    print(\"Finished extracting frames.\")\n",
    "\n"
   ]
  },
  {
   "cell_type": "code",
   "execution_count": 14,
   "id": "4453a74a-1257-466c-8051-aad0337efb84",
   "metadata": {},
   "outputs": [
    {
     "name": "stdout",
     "output_type": "stream",
     "text": [
      "Saved images/pitch/frame_두산삼성_240905_0000.jpg at time 1257.5 seconds.\n",
      "Saved images/pitch/frame_두산삼성_240905_0001.jpg at time 1308.5 seconds.\n",
      "Saved images/pitch/frame_두산삼성_240905_0002.jpg at time 2449.8 seconds.\n",
      "Saved images/pitch/frame_두산삼성_240905_0003.jpg at time 4084.5 seconds.\n",
      "Saved images/pitch/frame_두산삼성_240905_0004.jpg at time 4622.5 seconds.\n",
      "Saved images/pitch/frame_두산삼성_240905_0005.jpg at time 5334.3 seconds.\n",
      "Finished extracting frames.\n"
     ]
    }
   ],
   "source": [
    "# Usage Example:\n",
    "video_path = 'raw_data/[두산 vs 삼성] 9_4 다시보기 _ TVING - Chrome 2024-09-05 16-32-12.mp4'  # Path to your video file\n",
    "output_folder = 'images/pitch/'  # Folder to save the extracted images\n",
    "game_name=\"두산삼성_240905\"\n",
    "# Specify the times (in seconds) at which to extract frames\n",
    "times_in_seconds = [20*60+57.5,21*60+48.5,40*60+49.8,68*60+4.5,77*60+2.5, 88*60+54.3]  # Extract frames at 5s, 10s, 30s, and 45s\n",
    "\n",
    "extract_frames_at_times(video_path, output_folder, times_in_seconds,game_name)\n"
   ]
  },
  {
   "cell_type": "code",
   "execution_count": 45,
   "id": "4464c77b-7017-4d6a-8de3-84b0c79436b4",
   "metadata": {},
   "outputs": [
    {
     "name": "stdout",
     "output_type": "stream",
     "text": [
      "Saved images/pitch/frame_ssglg_240905_0000.jpg at time 349 seconds.\n",
      "Saved images/pitch/frame_ssglg_240905_0001.jpg at time 487.5 seconds.\n",
      "Saved images/pitch/frame_ssglg_240905_0002.jpg at time 498.5 seconds.\n",
      "Saved images/pitch/frame_ssglg_240905_0003.jpg at time 509.5 seconds.\n",
      "Saved images/pitch/frame_ssglg_240905_0004.jpg at time 2621.5 seconds.\n",
      "Saved images/pitch/frame_ssglg_240905_0005.jpg at time 2631 seconds.\n",
      "Saved images/pitch/frame_ssglg_240905_0006.jpg at time 2868.5 seconds.\n",
      "Saved images/pitch/frame_ssglg_240905_0007.jpg at time 2880 seconds.\n",
      "Saved images/pitch/frame_ssglg_240905_0008.jpg at time 3452.5 seconds.\n",
      "Saved images/pitch/frame_ssglg_240905_0009.jpg at time 4001.5 seconds.\n",
      "Finished extracting frames.\n"
     ]
    }
   ],
   "source": [
    "# Usage Example:\n",
    "video_path = 'raw_data/[SSG vs LG] 9_4 다시보기 _ TVING - Chrome 2024-09-05 18-29-11 (2).mp4'  # Path to your video file\n",
    "output_folder = 'images/pitch/'  # Folder to save the extracted images\n",
    "game_name=\"ssglg_240905\"\n",
    "# Specify the times (in seconds) at which to extract frames\n",
    "times_in_seconds = [5*60+49,8*60+7.5,8*60+18.5,8*60+29.5,43*60+41.5, 43*60+51, 47*60+48.5, 48*60,57*60+32.5, 66*60+41.5 ]  # Extract frames at 5s, 10s, 30s, and 45s\n",
    "\n",
    "extract_frames_at_times(video_path, output_folder, times_in_seconds,game_name)\n"
   ]
  },
  {
   "cell_type": "code",
   "execution_count": 3,
   "id": "f073d6da-ca83-4105-aae8-5e1bab95a4c0",
   "metadata": {},
   "outputs": [
    {
     "name": "stdout",
     "output_type": "stream",
     "text": [
      "Saved images/pitch/frame_키움NC_240906_0000.jpg at time 657.9 seconds.\n",
      "Saved images/pitch/frame_키움NC_240906_0001.jpg at time 755 seconds.\n",
      "Saved images/pitch/frame_키움NC_240906_0002.jpg at time 1044.7 seconds.\n",
      "Saved images/pitch/frame_키움NC_240906_0003.jpg at time 1087 seconds.\n",
      "Saved images/pitch/frame_키움NC_240906_0004.jpg at time 1129.9 seconds.\n",
      "Saved images/pitch/frame_키움NC_240906_0005.jpg at time 1141.5 seconds.\n",
      "Saved images/pitch/frame_키움NC_240906_0006.jpg at time 1413.5 seconds.\n",
      "Saved images/pitch/frame_키움NC_240906_0007.jpg at time 2930 seconds.\n",
      "Saved images/pitch/frame_키움NC_240906_0008.jpg at time 2939.5 seconds.\n",
      "Saved images/pitch/frame_키움NC_240906_0009.jpg at time 3989 seconds.\n",
      "Finished extracting frames.\n"
     ]
    }
   ],
   "source": [
    "# Usage Example:\n",
    "video_path = 'raw_data/[키움 vs NC] 9_3 다시보기 _ TVING - Chrome 2024-09-06 00-44-52.mp4'  # Path to your video file\n",
    "output_folder = 'images/pitch/'  # Folder to save the extracted images\n",
    "game_name=\"키움NC_240906\"\n",
    "# Specify the times (in seconds) at which to extract frames\n",
    "times_in_seconds = [10*60+57.9, 12*60+35, 17*60+24.7, 18*60+7, 18*60+49.9, 19*60+1.5, 23*60+33.5, 48*60+50, 48*60+59.5, 66*60+29]  # Extract frames at 5s, 10s, 30s, and 45s\n",
    "\n",
    "extract_frames_at_times(video_path, output_folder, times_in_seconds,game_name)\n"
   ]
  },
  {
   "cell_type": "code",
   "execution_count": 63,
   "id": "b6078895-18e1-4de5-804a-aa0d38a8ed40",
   "metadata": {},
   "outputs": [
    {
     "name": "stdout",
     "output_type": "stream",
     "text": [
      "Saved images/pitch/frame_LGKIA_240906_0000.jpg at time 227.5 seconds.\n",
      "Saved images/pitch/frame_LGKIA_240906_0001.jpg at time 240.5 seconds.\n",
      "Saved images/pitch/frame_LGKIA_240906_0002.jpg at time 583 seconds.\n",
      "Saved images/pitch/frame_LGKIA_240906_0003.jpg at time 678.5 seconds.\n",
      "Saved images/pitch/frame_LGKIA_240906_0004.jpg at time 1386 seconds.\n",
      "Saved images/pitch/frame_LGKIA_240906_0005.jpg at time 1515.5 seconds.\n",
      "Saved images/pitch/frame_LGKIA_240906_0006.jpg at time 1560 seconds.\n",
      "Saved images/pitch/frame_LGKIA_240906_0007.jpg at time 2544.1 seconds.\n",
      "Saved images/pitch/frame_LGKIA_240906_0008.jpg at time 2591.5 seconds.\n",
      "Saved images/pitch/frame_LGKIA_240906_0009.jpg at time 3435 seconds.\n",
      "Saved images/pitch/frame_LGKIA_240906_0010.jpg at time 3835 seconds.\n",
      "Finished extracting frames.\n"
     ]
    }
   ],
   "source": [
    "# Usage Example:\n",
    "video_path = 'raw_data/[LG vs KIA] 9_3 다시보기 _ TVING - Chrome 2024-09-06 18-54-19.mp4'  # Path to your video file\n",
    "output_folder = 'images/pitch/'  # Folder to save the extracted images\n",
    "game_name=\"LGKIA_240906\"\n",
    "# Specify the times (in seconds) at which to extract frames\n",
    "times_in_seconds = [3*60+47.5, 4*60+0.5,9*60+43,11*60+18.5, 23*60+6,25*60+15.5, 26*60, 42*60+24.1, 43*60+11.5, 57*60+15, 63*60+55]  # Extract frames at 5s, 10s, 30s, and 45s\n",
    "\n",
    "extract_frames_at_times(video_path, output_folder, times_in_seconds,game_name)\n"
   ]
  },
  {
   "cell_type": "code",
   "execution_count": 10,
   "id": "23a280d0-ca7c-437f-9bc0-fe509b95f6a0",
   "metadata": {},
   "outputs": [
    {
     "name": "stdout",
     "output_type": "stream",
     "text": [
      "Saved images/pitch/frame_NC삼성_240908_0000.jpg at time 220 seconds.\n",
      "Saved images/pitch/frame_NC삼성_240908_0001.jpg at time 385.5 seconds.\n",
      "Saved images/pitch/frame_NC삼성_240908_0002.jpg at time 609.5 seconds.\n",
      "Saved images/pitch/frame_NC삼성_240908_0003.jpg at time 1365 seconds.\n",
      "Saved images/pitch/frame_NC삼성_240908_0004.jpg at time 2566.5 seconds.\n",
      "Saved images/pitch/frame_NC삼성_240908_0005.jpg at time 3620.5 seconds.\n",
      "Saved images/pitch/frame_NC삼성_240908_0006.jpg at time 4025 seconds.\n",
      "Saved images/pitch/frame_NC삼성_240908_0007.jpg at time 4578.5 seconds.\n",
      "Saved images/pitch/frame_NC삼성_240908_0008.jpg at time 5006.5 seconds.\n",
      "Finished extracting frames.\n"
     ]
    }
   ],
   "source": [
    "# Usage Example:\n",
    "video_path = '../baseball/raw_data/[NC vs 삼성] 9_8 다시보기 _ TVING - Chrome 2024-09-10 11-25-25 - Join.mp4'  # Path to your video file\n",
    "output_folder = 'images/pitch/'  # Folder to save the extracted images\n",
    "game_name=\"NC삼성_240908\"\n",
    "# Specify the times (in seconds) at which to extract frames\n",
    "times_in_seconds = [3*60+40, 6*60+25.5, 10*60+9.5, 22*60+45, 42*60+46.5, 60*60+20.5, 67*60+5,76*60+18.5, 83*60+26.5]  # Extract frames at 5s, 10s, 30s, and 45s\n",
    "\n",
    "extract_frames_at_times(video_path, output_folder, times_in_seconds,game_name)\n"
   ]
  }
 ],
 "metadata": {
  "kernelspec": {
   "display_name": "venv_baseball1.0",
   "language": "python",
   "name": "venv_baseball"
  },
  "language_info": {
   "codemirror_mode": {
    "name": "ipython",
    "version": 3
   },
   "file_extension": ".py",
   "mimetype": "text/x-python",
   "name": "python",
   "nbconvert_exporter": "python",
   "pygments_lexer": "ipython3",
   "version": "3.10.12"
  }
 },
 "nbformat": 4,
 "nbformat_minor": 5
}
